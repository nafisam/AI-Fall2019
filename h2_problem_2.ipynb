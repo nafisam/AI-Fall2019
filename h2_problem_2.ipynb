{
  "nbformat": 4,
  "nbformat_minor": 0,
  "metadata": {
    "colab": {
      "name": "h2 problem 2.ipynb",
      "provenance": []
    },
    "kernelspec": {
      "name": "python3",
      "display_name": "Python 3"
    },
    "accelerator": "GPU"
  },
  "cells": [
    {
      "cell_type": "markdown",
      "metadata": {
        "id": "rt44vyY1xW9b",
        "colab_type": "text"
      },
      "source": [
        "# MNIST fashion data set"
      ]
    },
    {
      "cell_type": "markdown",
      "metadata": {
        "id": "l34GNy7tyNks",
        "colab_type": "text"
      },
      "source": [
        "## Loading the MNIST fashion data set"
      ]
    },
    {
      "cell_type": "code",
      "metadata": {
        "id": "FSJyddqGexl5",
        "colab_type": "code",
        "outputId": "a295b407-3009-44e9-a663-9456ad2a54ad",
        "colab": {
          "base_uri": "https://localhost:8080/",
          "height": 199
        }
      },
      "source": [
        "import tensorflow as tf\n",
        "from tensorflow import keras\n",
        "\n",
        "fashion_mnist = keras.datasets.fashion_mnist\n",
        "\n",
        "(train_images, train_labels), (test_images, test_labels) = fashion_mnist.load_data()"
      ],
      "execution_count": 1,
      "outputs": [
        {
          "output_type": "display_data",
          "data": {
            "text/html": [
              "<p style=\"color: red;\">\n",
              "The default version of TensorFlow in Colab will soon switch to TensorFlow 2.x.<br>\n",
              "We recommend you <a href=\"https://www.tensorflow.org/guide/migrate\" target=\"_blank\">upgrade</a> now \n",
              "or ensure your notebook will continue to use TensorFlow 1.x via the <code>%tensorflow_version 1.x</code> magic:\n",
              "<a href=\"https://colab.research.google.com/notebooks/tensorflow_version.ipynb\" target=\"_blank\">more info</a>.</p>\n"
            ],
            "text/plain": [
              "<IPython.core.display.HTML object>"
            ]
          },
          "metadata": {
            "tags": []
          }
        },
        {
          "output_type": "stream",
          "text": [
            "Downloading data from https://storage.googleapis.com/tensorflow/tf-keras-datasets/train-labels-idx1-ubyte.gz\n",
            "32768/29515 [=================================] - 0s 0us/step\n",
            "Downloading data from https://storage.googleapis.com/tensorflow/tf-keras-datasets/train-images-idx3-ubyte.gz\n",
            "26427392/26421880 [==============================] - 0s 0us/step\n",
            "Downloading data from https://storage.googleapis.com/tensorflow/tf-keras-datasets/t10k-labels-idx1-ubyte.gz\n",
            "8192/5148 [===============================================] - 0s 0us/step\n",
            "Downloading data from https://storage.googleapis.com/tensorflow/tf-keras-datasets/t10k-images-idx3-ubyte.gz\n",
            "4423680/4422102 [==============================] - 0s 0us/step\n"
          ],
          "name": "stdout"
        }
      ]
    },
    {
      "cell_type": "code",
      "metadata": {
        "id": "uSj4HIhWzBxl",
        "colab_type": "code",
        "colab": {}
      },
      "source": [
        "import matplotlib.pyplot as plt\n",
        "import numpy as np"
      ],
      "execution_count": 0,
      "outputs": []
    },
    {
      "cell_type": "markdown",
      "metadata": {
        "id": "JC5iBT_0OCSl",
        "colab_type": "text"
      },
      "source": [
        "## Preprocess the data"
      ]
    },
    {
      "cell_type": "code",
      "metadata": {
        "id": "inugSPsZNytV",
        "colab_type": "code",
        "colab": {}
      },
      "source": [
        "train_images = train_images / 255.0\n",
        "test_images = test_images / 255.0"
      ],
      "execution_count": 0,
      "outputs": []
    },
    {
      "cell_type": "markdown",
      "metadata": {
        "id": "OA975wHjOJI-",
        "colab_type": "text"
      },
      "source": [
        "# Building all the models"
      ]
    },
    {
      "cell_type": "markdown",
      "metadata": {
        "id": "-wVJXFglzYrg",
        "colab_type": "text"
      },
      "source": [
        "### Underfit Model"
      ]
    },
    {
      "cell_type": "code",
      "metadata": {
        "id": "ZX6SGTpMOIKN",
        "colab_type": "code",
        "outputId": "bec4b148-509b-4fb8-b1e8-bf07c2e2fedd",
        "colab": {
          "base_uri": "https://localhost:8080/",
          "height": 445
        }
      },
      "source": [
        "# set up the layers\n",
        "\n",
        "#underfit model\n",
        "model_underfit = keras.Sequential([\n",
        "    keras.layers.Flatten(input_shape=(28, 28)),\n",
        "    keras.layers.Dense(16, activation=tf.nn.relu),\n",
        "    keras.layers.Dense(1, activation=tf.nn.relu),\n",
        "    keras.layers.Dense(32,activation=tf.nn.relu),\n",
        "    keras.layers.Dropout(0.5),\n",
        "    keras.layers.Dense(10, activation=tf.nn.softmax)\n",
        "])\n",
        "\n",
        "# compile the model\n",
        "model_underfit.compile(optimizer='adam',\n",
        "             loss='sparse_categorical_crossentropy',\n",
        "             metrics=['accuracy'])\n",
        "\n",
        "# train the model\n",
        "epochs = 10\n",
        "history = model_underfit.fit(train_images, \n",
        "                      train_labels, \n",
        "                      epochs=epochs,  \n",
        "                      validation_data=(test_images, test_labels))\n",
        "\n"
      ],
      "execution_count": 4,
      "outputs": [
        {
          "output_type": "stream",
          "text": [
            "WARNING:tensorflow:From /usr/local/lib/python3.6/dist-packages/tensorflow_core/python/ops/resource_variable_ops.py:1630: calling BaseResourceVariable.__init__ (from tensorflow.python.ops.resource_variable_ops) with constraint is deprecated and will be removed in a future version.\n",
            "Instructions for updating:\n",
            "If using Keras pass *_constraint arguments to layers.\n",
            "Train on 60000 samples, validate on 10000 samples\n",
            "Epoch 1/10\n",
            "60000/60000 [==============================] - 11s 186us/sample - loss: 2.3028 - acc: 0.0979 - val_loss: 2.3027 - val_acc: 0.1000\n",
            "Epoch 2/10\n",
            "60000/60000 [==============================] - 10s 163us/sample - loss: 2.3028 - acc: 0.0979 - val_loss: 2.3027 - val_acc: 0.1000\n",
            "Epoch 3/10\n",
            "60000/60000 [==============================] - 10s 164us/sample - loss: 2.3028 - acc: 0.0969 - val_loss: 2.3026 - val_acc: 0.1000\n",
            "Epoch 4/10\n",
            "60000/60000 [==============================] - 9s 157us/sample - loss: 2.3028 - acc: 0.0982 - val_loss: 2.3026 - val_acc: 0.1000\n",
            "Epoch 5/10\n",
            "60000/60000 [==============================] - 10s 159us/sample - loss: 2.3028 - acc: 0.0990 - val_loss: 2.3026 - val_acc: 0.1000\n",
            "Epoch 6/10\n",
            "60000/60000 [==============================] - 11s 177us/sample - loss: 2.3028 - acc: 0.0986 - val_loss: 2.3026 - val_acc: 0.1000\n",
            "Epoch 7/10\n",
            "60000/60000 [==============================] - 9s 156us/sample - loss: 2.3028 - acc: 0.0989 - val_loss: 2.3026 - val_acc: 0.1000\n",
            "Epoch 8/10\n",
            "60000/60000 [==============================] - 9s 146us/sample - loss: 2.3027 - acc: 0.1011 - val_loss: 2.3027 - val_acc: 0.1000\n",
            "Epoch 9/10\n",
            "60000/60000 [==============================] - 9s 156us/sample - loss: 2.3028 - acc: 0.0995 - val_loss: 2.3027 - val_acc: 0.1000\n",
            "Epoch 10/10\n",
            "60000/60000 [==============================] - 10s 173us/sample - loss: 2.3028 - acc: 0.0978 - val_loss: 2.3027 - val_acc: 0.1000\n"
          ],
          "name": "stdout"
        }
      ]
    },
    {
      "cell_type": "code",
      "metadata": {
        "id": "FF7tAH2dz2dj",
        "colab_type": "code",
        "colab": {
          "base_uri": "https://localhost:8080/",
          "height": 51
        },
        "outputId": "de9168eb-5a00-435d-9b5a-dac2847ee6ee"
      },
      "source": [
        "test_loss, test_acc = model_underfit.evaluate(test_images, test_labels)\n",
        "\n",
        "print('Test accuracy:', test_acc)"
      ],
      "execution_count": 6,
      "outputs": [
        {
          "output_type": "stream",
          "text": [
            "10000/10000 [==============================] - 1s 95us/sample - loss: 2.3027 - acc: 0.1000\n",
            "Test accuracy: 0.1\n"
          ],
          "name": "stdout"
        }
      ]
    },
    {
      "cell_type": "markdown",
      "metadata": {
        "colab_type": "text",
        "id": "-lUhUnPz0E7Y"
      },
      "source": [
        "### Training/test loss/accuracy during training"
      ]
    },
    {
      "cell_type": "code",
      "metadata": {
        "colab_type": "code",
        "id": "XBR4zSxm0E7b",
        "colab": {}
      },
      "source": [
        "history_dict = history.history\n",
        "loss_values = history_dict['loss']\n",
        "test_loss_values = history_dict['val_loss']\n",
        "epochs_range = range(1, epochs+1)"
      ],
      "execution_count": 0,
      "outputs": []
    },
    {
      "cell_type": "code",
      "metadata": {
        "colab_type": "code",
        "outputId": "69b802bf-de06-42e3-efe6-db014df63cba",
        "id": "WpDgL5pF0E7d",
        "colab": {
          "base_uri": "https://localhost:8080/",
          "height": 295
        }
      },
      "source": [
        "plt.plot(epochs_range, loss_values, 'bo', label='Training loss')\n",
        "plt.plot(epochs_range, test_loss_values, 'ro', label='Test loss')\n",
        "plt.title('Underfit Training and test loss')\n",
        "plt.xlabel('Epochs')\n",
        "plt.ylabel('Loss')\n",
        "plt.legend()\n",
        "plt.show()"
      ],
      "execution_count": 10,
      "outputs": [
        {
          "output_type": "display_data",
          "data": {
            "image/png": "[encoded data removed]",
            "text/plain": [
              "<Figure size 432x288 with 1 Axes>"
            ]
          },
          "metadata": {
            "tags": []
          }
        }
      ]
    },
    {
      "cell_type": "code",
      "metadata": {
        "colab_type": "code",
        "id": "7hn1N4xm0E7h",
        "colab": {}
      },
      "source": [
        "acc_values = history_dict['acc']\n",
        "test_acc_values = history_dict['val_acc']"
      ],
      "execution_count": 0,
      "outputs": []
    },
    {
      "cell_type": "code",
      "metadata": {
        "colab_type": "code",
        "outputId": "e2b7460f-0ef0-4913-ae56-56c03edef9a8",
        "id": "_4VyavWx0E7j",
        "colab": {
          "base_uri": "https://localhost:8080/",
          "height": 295
        }
      },
      "source": [
        "plt.plot(epochs_range, acc_values, 'bo', label='Training accuracy')\n",
        "plt.plot(epochs_range, test_acc_values, 'ro', label='Test accuracy')\n",
        "plt.title('Underfit Training and test accuracy')\n",
        "plt.xlabel('Epochs')\n",
        "plt.ylabel('Accuracy')\n",
        "plt.legend()\n",
        "plt.show()"
      ],
      "execution_count": 12,
      "outputs": [
        {
          "output_type": "display_data",
          "data": {
            "image/png": "[encoded data removed]",
            "text/plain": [
              "<Figure size 432x288 with 1 Axes>"
            ]
          },
          "metadata": {
            "tags": []
          }
        }
      ]
    },
    {
      "cell_type": "markdown",
      "metadata": {
        "id": "Tiye5lV8zklc",
        "colab_type": "text"
      },
      "source": [
        "### Overfit Model"
      ]
    },
    {
      "cell_type": "code",
      "metadata": {
        "id": "9WPFMkS5zlAX",
        "colab_type": "code",
        "colab": {
          "base_uri": "https://localhost:8080/",
          "height": 1000
        },
        "outputId": "548a0a35-a911-4d5a-d385-58e5f8d3f20b"
      },
      "source": [
        "#Overfit model\n",
        "model_overfit = keras.Sequential([\n",
        "    keras.layers.Flatten(input_shape=(28, 28)),\n",
        "    keras.layers.Dense(512, activation=tf.nn.relu),\n",
        "    keras.layers.Dense(10, activation=tf.nn.softmax)\n",
        "])\n",
        "\n",
        "# compile the model\n",
        "\n",
        "model_overfit.compile(optimizer='adam',\n",
        "             loss='sparse_categorical_crossentropy',\n",
        "             metrics=['accuracy'])\n",
        "\n",
        "# train the model\n",
        "epochs = 30\n",
        "history = model_overfit.fit(train_images, \n",
        "                      train_labels, \n",
        "                      epochs=epochs,  \n",
        "                      validation_data=(test_images, test_labels))\n"
      ],
      "execution_count": 13,
      "outputs": [
        {
          "output_type": "stream",
          "text": [
            "Train on 60000 samples, validate on 10000 samples\n",
            "Epoch 1/30\n",
            "60000/60000 [==============================] - 9s 144us/sample - loss: 0.4728 - acc: 0.8312 - val_loss: 0.3904 - val_acc: 0.8615\n",
            "Epoch 2/30\n",
            "60000/60000 [==============================] - 9s 143us/sample - loss: 0.3578 - acc: 0.8697 - val_loss: 0.3725 - val_acc: 0.8624\n",
            "Epoch 3/30\n",
            "60000/60000 [==============================] - 9s 154us/sample - loss: 0.3257 - acc: 0.8793 - val_loss: 0.3616 - val_acc: 0.8701\n",
            "Epoch 4/30\n",
            "60000/60000 [==============================] - 9s 154us/sample - loss: 0.2997 - acc: 0.8882 - val_loss: 0.3371 - val_acc: 0.8792\n",
            "Epoch 5/30\n",
            "60000/60000 [==============================] - 8s 140us/sample - loss: 0.2786 - acc: 0.8959 - val_loss: 0.3422 - val_acc: 0.8773\n",
            "Epoch 6/30\n",
            "60000/60000 [==============================] - 9s 146us/sample - loss: 0.2645 - acc: 0.9012 - val_loss: 0.3353 - val_acc: 0.8824\n",
            "Epoch 7/30\n",
            "60000/60000 [==============================] - 10s 168us/sample - loss: 0.2522 - acc: 0.9057 - val_loss: 0.3322 - val_acc: 0.8816\n",
            "Epoch 8/30\n",
            "60000/60000 [==============================] - 10s 169us/sample - loss: 0.2418 - acc: 0.9096 - val_loss: 0.3307 - val_acc: 0.8848\n",
            "Epoch 9/30\n",
            "60000/60000 [==============================] - 9s 158us/sample - loss: 0.2314 - acc: 0.9125 - val_loss: 0.3350 - val_acc: 0.8876\n",
            "Epoch 10/30\n",
            "60000/60000 [==============================] - 9s 153us/sample - loss: 0.2216 - acc: 0.9164 - val_loss: 0.3426 - val_acc: 0.8862\n",
            "Epoch 11/30\n",
            "60000/60000 [==============================] - 9s 144us/sample - loss: 0.2149 - acc: 0.9190 - val_loss: 0.3455 - val_acc: 0.8807\n",
            "Epoch 12/30\n",
            "60000/60000 [==============================] - 9s 147us/sample - loss: 0.2021 - acc: 0.9232 - val_loss: 0.3402 - val_acc: 0.8875\n",
            "Epoch 13/30\n",
            "60000/60000 [==============================] - 9s 145us/sample - loss: 0.1992 - acc: 0.9250 - val_loss: 0.3439 - val_acc: 0.8864\n",
            "Epoch 14/30\n",
            "60000/60000 [==============================] - 9s 144us/sample - loss: 0.1913 - acc: 0.9272 - val_loss: 0.3372 - val_acc: 0.8884\n",
            "Epoch 15/30\n",
            "60000/60000 [==============================] - 9s 148us/sample - loss: 0.1852 - acc: 0.9301 - val_loss: 0.3568 - val_acc: 0.8852\n",
            "Epoch 16/30\n",
            "60000/60000 [==============================] - 9s 148us/sample - loss: 0.1791 - acc: 0.9317 - val_loss: 0.3481 - val_acc: 0.8897\n",
            "Epoch 17/30\n",
            "60000/60000 [==============================] - 10s 162us/sample - loss: 0.1732 - acc: 0.9342 - val_loss: 0.3715 - val_acc: 0.8872\n",
            "Epoch 18/30\n",
            "60000/60000 [==============================] - 9s 150us/sample - loss: 0.1690 - acc: 0.9355 - val_loss: 0.3739 - val_acc: 0.8877\n",
            "Epoch 19/30\n",
            "60000/60000 [==============================] - 9s 151us/sample - loss: 0.1636 - acc: 0.9381 - val_loss: 0.3735 - val_acc: 0.8883\n",
            "Epoch 20/30\n",
            "60000/60000 [==============================] - 9s 147us/sample - loss: 0.1575 - acc: 0.9401 - val_loss: 0.3619 - val_acc: 0.8907\n",
            "Epoch 21/30\n",
            "60000/60000 [==============================] - 9s 146us/sample - loss: 0.1524 - acc: 0.9413 - val_loss: 0.3733 - val_acc: 0.8877\n",
            "Epoch 22/30\n",
            "60000/60000 [==============================] - 9s 146us/sample - loss: 0.1486 - acc: 0.9438 - val_loss: 0.3855 - val_acc: 0.8944\n",
            "Epoch 23/30\n",
            "60000/60000 [==============================] - 8s 141us/sample - loss: 0.1455 - acc: 0.9447 - val_loss: 0.3903 - val_acc: 0.8888\n",
            "Epoch 24/30\n",
            "60000/60000 [==============================] - 9s 152us/sample - loss: 0.1422 - acc: 0.9466 - val_loss: 0.3840 - val_acc: 0.8916\n",
            "Epoch 25/30\n",
            "60000/60000 [==============================] - 10s 160us/sample - loss: 0.1388 - acc: 0.9477 - val_loss: 0.4015 - val_acc: 0.8914\n",
            "Epoch 26/30\n",
            "60000/60000 [==============================] - 10s 167us/sample - loss: 0.1331 - acc: 0.9500 - val_loss: 0.3997 - val_acc: 0.8913\n",
            "Epoch 27/30\n",
            "60000/60000 [==============================] - 9s 144us/sample - loss: 0.1326 - acc: 0.9493 - val_loss: 0.3825 - val_acc: 0.8969\n",
            "Epoch 28/30\n",
            "60000/60000 [==============================] - 9s 145us/sample - loss: 0.1291 - acc: 0.9513 - val_loss: 0.4053 - val_acc: 0.8916\n",
            "Epoch 29/30\n",
            "60000/60000 [==============================] - 10s 162us/sample - loss: 0.1270 - acc: 0.9517 - val_loss: 0.4191 - val_acc: 0.8919\n",
            "Epoch 30/30\n",
            "60000/60000 [==============================] - 10s 167us/sample - loss: 0.1196 - acc: 0.9549 - val_loss: 0.4340 - val_acc: 0.8890\n"
          ],
          "name": "stdout"
        }
      ]
    },
    {
      "cell_type": "code",
      "metadata": {
        "id": "p9s6DqaHz3-l",
        "colab_type": "code",
        "colab": {
          "base_uri": "https://localhost:8080/",
          "height": 51
        },
        "outputId": "7939d08c-ae3a-4e7b-8db9-45a1a748fc76"
      },
      "source": [
        "test_loss, test_acc = model_overfit.evaluate(test_images, test_labels)\n",
        "\n",
        "print('Test accuracy:', test_acc)"
      ],
      "execution_count": 14,
      "outputs": [
        {
          "output_type": "stream",
          "text": [
            "10000/10000 [==============================] - 1s 91us/sample - loss: 0.4340 - acc: 0.8890\n",
            "Test accuracy: 0.889\n"
          ],
          "name": "stdout"
        }
      ]
    },
    {
      "cell_type": "markdown",
      "metadata": {
        "colab_type": "text",
        "id": "JyjtH4ok0PpG"
      },
      "source": [
        "### Training/test loss/accuracy during training"
      ]
    },
    {
      "cell_type": "code",
      "metadata": {
        "colab_type": "code",
        "id": "NUrjhVUM0PpH",
        "colab": {}
      },
      "source": [
        "history_dict = history.history\n",
        "loss_values = history_dict['loss']\n",
        "test_loss_values = history_dict['val_loss']\n",
        "epochs_range = range(1, epochs+1)"
      ],
      "execution_count": 0,
      "outputs": []
    },
    {
      "cell_type": "code",
      "metadata": {
        "colab_type": "code",
        "outputId": "976cfc52-d501-45a6-e6ea-468f07e6ee87",
        "id": "HvP_7U9X0PpJ",
        "colab": {
          "base_uri": "https://localhost:8080/",
          "height": 295
        }
      },
      "source": [
        "plt.plot(epochs_range, loss_values, 'bo', label='Training loss')\n",
        "plt.plot(epochs_range, test_loss_values, 'ro', label='Test loss')\n",
        "plt.title('Overfit Training and test loss')\n",
        "plt.xlabel('Epochs')\n",
        "plt.ylabel('Loss')\n",
        "plt.legend()\n",
        "plt.show()"
      ],
      "execution_count": 16,
      "outputs": [
        {
          "output_type": "display_data",
          "data": {
            "image/png": "[encoded data removed]",
            "text/plain": [
              "<Figure size 432x288 with 1 Axes>"
            ]
          },
          "metadata": {
            "tags": []
          }
        }
      ]
    },
    {
      "cell_type": "code",
      "metadata": {
        "colab_type": "code",
        "id": "orsp6gA90PpM",
        "colab": {}
      },
      "source": [
        "acc_values = history_dict['acc']\n",
        "test_acc_values = history_dict['val_acc']"
      ],
      "execution_count": 0,
      "outputs": []
    },
    {
      "cell_type": "code",
      "metadata": {
        "colab_type": "code",
        "outputId": "250fca97-248c-4e8a-8c2f-3dd2ee0bfb70",
        "id": "3uRwtYRu0PpO",
        "colab": {
          "base_uri": "https://localhost:8080/",
          "height": 295
        }
      },
      "source": [
        "plt.plot(epochs_range, acc_values, 'bo', label='Training accuracy')\n",
        "plt.plot(epochs_range, test_acc_values, 'ro', label='Test accuracy')\n",
        "plt.title('Overfit Training and test accuracy')\n",
        "plt.xlabel('Epochs')\n",
        "plt.ylabel('Accuracy')\n",
        "plt.legend()\n",
        "plt.show()"
      ],
      "execution_count": 18,
      "outputs": [
        {
          "output_type": "display_data",
          "data": {
            "image/png": "[encoded data removed]",
            "text/plain": [
              "<Figure size 432x288 with 1 Axes>"
            ]
          },
          "metadata": {
            "tags": []
          }
        }
      ]
    },
    {
      "cell_type": "markdown",
      "metadata": {
        "id": "5iNnmAjzzlec",
        "colab_type": "text"
      },
      "source": [
        "### Goodfit Model"
      ]
    },
    {
      "cell_type": "code",
      "metadata": {
        "id": "PICxU5YYzl9f",
        "colab_type": "code",
        "colab": {
          "base_uri": "https://localhost:8080/",
          "height": 714
        },
        "outputId": "98d8b870-3ccd-4ed1-a9b9-5a3552dd00e4"
      },
      "source": [
        "\n",
        "#goodfit model\n",
        "model_goodfit = keras.Sequential([\n",
        "    keras.layers.Flatten(input_shape=(28, 28)),\n",
        "    keras.layers.Dense(64, activation=tf.nn.relu),\n",
        "    keras.layers.Dropout(0.25),\n",
        "    keras.layers.Dense(128, activation=tf.nn.relu),\n",
        "    keras.layers.Dropout(0.25),\n",
        "    keras.layers.Dense(256, activation=tf.nn.relu),\n",
        "    keras.layers.Dropout(0.25),\n",
        "    keras.layers.Dense(10, activation=tf.nn.softmax)\n",
        "])\n",
        "\n",
        "# compile the model\n",
        "\n",
        "model_goodfit.compile(optimizer='adam',\n",
        "             loss='sparse_categorical_crossentropy',\n",
        "             metrics=['accuracy'])\n",
        "\n",
        "# train the model\n",
        "epochs = 20\n",
        "history = model_goodfit.fit(train_images, \n",
        "                      train_labels, \n",
        "                      epochs=epochs,  \n",
        "                      validation_data=(test_images, test_labels))"
      ],
      "execution_count": 19,
      "outputs": [
        {
          "output_type": "stream",
          "text": [
            "Train on 60000 samples, validate on 10000 samples\n",
            "Epoch 1/20\n",
            "60000/60000 [==============================] - 11s 190us/sample - loss: 0.6414 - acc: 0.7672 - val_loss: 0.4439 - val_acc: 0.8373\n",
            "Epoch 2/20\n",
            "60000/60000 [==============================] - 12s 196us/sample - loss: 0.4780 - acc: 0.8270 - val_loss: 0.4206 - val_acc: 0.8474\n",
            "Epoch 3/20\n",
            "60000/60000 [==============================] - 12s 207us/sample - loss: 0.4435 - acc: 0.8388 - val_loss: 0.4151 - val_acc: 0.8503\n",
            "Epoch 4/20\n",
            "60000/60000 [==============================] - 12s 192us/sample - loss: 0.4224 - acc: 0.8486 - val_loss: 0.3890 - val_acc: 0.8636\n",
            "Epoch 5/20\n",
            "60000/60000 [==============================] - 11s 190us/sample - loss: 0.4120 - acc: 0.8512 - val_loss: 0.3875 - val_acc: 0.8605\n",
            "Epoch 6/20\n",
            "60000/60000 [==============================] - 13s 218us/sample - loss: 0.3960 - acc: 0.8561 - val_loss: 0.3721 - val_acc: 0.8653\n",
            "Epoch 7/20\n",
            "60000/60000 [==============================] - 13s 218us/sample - loss: 0.3915 - acc: 0.8578 - val_loss: 0.3704 - val_acc: 0.8661\n",
            "Epoch 8/20\n",
            "60000/60000 [==============================] - 12s 203us/sample - loss: 0.3789 - acc: 0.8633 - val_loss: 0.3636 - val_acc: 0.8661\n",
            "Epoch 9/20\n",
            "60000/60000 [==============================] - 12s 196us/sample - loss: 0.3737 - acc: 0.8645 - val_loss: 0.3632 - val_acc: 0.8678\n",
            "Epoch 10/20\n",
            "60000/60000 [==============================] - 12s 192us/sample - loss: 0.3716 - acc: 0.8652 - val_loss: 0.3645 - val_acc: 0.8680\n",
            "Epoch 11/20\n",
            "60000/60000 [==============================] - 12s 192us/sample - loss: 0.3637 - acc: 0.8680 - val_loss: 0.3668 - val_acc: 0.8663\n",
            "Epoch 12/20\n",
            "60000/60000 [==============================] - 12s 193us/sample - loss: 0.3618 - acc: 0.8694 - val_loss: 0.3654 - val_acc: 0.8696\n",
            "Epoch 13/20\n",
            "60000/60000 [==============================] - 11s 187us/sample - loss: 0.3578 - acc: 0.8704 - val_loss: 0.3726 - val_acc: 0.8676\n",
            "Epoch 14/20\n",
            "60000/60000 [==============================] - 11s 186us/sample - loss: 0.3541 - acc: 0.8711 - val_loss: 0.3572 - val_acc: 0.8707\n",
            "Epoch 15/20\n",
            "60000/60000 [==============================] - 12s 207us/sample - loss: 0.3499 - acc: 0.8734 - val_loss: 0.3502 - val_acc: 0.8731\n",
            "Epoch 16/20\n",
            "60000/60000 [==============================] - 12s 193us/sample - loss: 0.3513 - acc: 0.8725 - val_loss: 0.3548 - val_acc: 0.8725\n",
            "Epoch 17/20\n",
            "60000/60000 [==============================] - 10s 171us/sample - loss: 0.3448 - acc: 0.8742 - val_loss: 0.3546 - val_acc: 0.8763\n",
            "Epoch 18/20\n",
            "60000/60000 [==============================] - 10s 171us/sample - loss: 0.3431 - acc: 0.8754 - val_loss: 0.3426 - val_acc: 0.8763\n",
            "Epoch 19/20\n",
            "60000/60000 [==============================] - 10s 171us/sample - loss: 0.3389 - acc: 0.8775 - val_loss: 0.3510 - val_acc: 0.8764\n",
            "Epoch 20/20\n",
            "60000/60000 [==============================] - 10s 168us/sample - loss: 0.3387 - acc: 0.8783 - val_loss: 0.3499 - val_acc: 0.8744\n"
          ],
          "name": "stdout"
        }
      ]
    },
    {
      "cell_type": "code",
      "metadata": {
        "id": "61IoYBWhz6a_",
        "colab_type": "code",
        "colab": {
          "base_uri": "https://localhost:8080/",
          "height": 51
        },
        "outputId": "7e91e8f2-4293-4ade-b6ae-1f8c79c73063"
      },
      "source": [
        "test_loss, test_acc = model_goodfit.evaluate(test_images, test_labels)\n",
        "\n",
        "print('Test accuracy:', test_acc)"
      ],
      "execution_count": 20,
      "outputs": [
        {
          "output_type": "stream",
          "text": [
            "10000/10000 [==============================] - 1s 84us/sample - loss: 0.3499 - acc: 0.8744\n",
            "Test accuracy: 0.8744\n"
          ],
          "name": "stdout"
        }
      ]
    },
    {
      "cell_type": "markdown",
      "metadata": {
        "colab_type": "text",
        "id": "H7zSKwMt0TJe"
      },
      "source": [
        "### Training/test loss/accuracy during training"
      ]
    },
    {
      "cell_type": "code",
      "metadata": {
        "colab_type": "code",
        "id": "aOeUQRcQ0TJg",
        "colab": {}
      },
      "source": [
        "history_dict = history.history\n",
        "loss_values = history_dict['loss']\n",
        "test_loss_values = history_dict['val_loss']\n",
        "epochs_range = range(1, epochs+1)"
      ],
      "execution_count": 0,
      "outputs": []
    },
    {
      "cell_type": "code",
      "metadata": {
        "colab_type": "code",
        "outputId": "93872a85-6098-4bef-cba1-7fac204d12c0",
        "id": "LuTTfM_40TJj",
        "colab": {
          "base_uri": "https://localhost:8080/",
          "height": 295
        }
      },
      "source": [
        "plt.plot(epochs_range, loss_values, 'bo', label='Training loss')\n",
        "plt.plot(epochs_range, test_loss_values, 'ro', label='Test loss')\n",
        "plt.title('Goodfit Training and test loss')\n",
        "plt.xlabel('Epochs')\n",
        "plt.ylabel('Loss')\n",
        "plt.legend()\n",
        "plt.show()"
      ],
      "execution_count": 22,
      "outputs": [
        {
          "output_type": "display_data",
          "data": {
            "image/png": "[encoded data removed]",
            "text/plain": [
              "<Figure size 432x288 with 1 Axes>"
            ]
          },
          "metadata": {
            "tags": []
          }
        }
      ]
    },
    {
      "cell_type": "code",
      "metadata": {
        "colab_type": "code",
        "id": "nqA6gRMx0TJm",
        "colab": {}
      },
      "source": [
        "acc_values = history_dict['acc']\n",
        "test_acc_values = history_dict['val_acc']"
      ],
      "execution_count": 0,
      "outputs": []
    },
    {
      "cell_type": "code",
      "metadata": {
        "colab_type": "code",
        "outputId": "9148934c-0da8-46ae-cb1e-71e064779406",
        "id": "Pdd804pk0TJo",
        "colab": {
          "base_uri": "https://localhost:8080/",
          "height": 295
        }
      },
      "source": [
        "plt.plot(epochs_range, acc_values, 'bo', label='Training accuracy')\n",
        "plt.plot(epochs_range, test_acc_values, 'ro', label='Test accuracy')\n",
        "plt.title('Goodfit Training and test accuracy')\n",
        "plt.xlabel('Epochs')\n",
        "plt.ylabel('Accuracy')\n",
        "plt.legend()\n",
        "plt.show()"
      ],
      "execution_count": 24,
      "outputs": [
        {
          "output_type": "display_data",
          "data": {
            "image/png": "[encoded data removed]",
            "text/plain": [
              "<Figure size 432x288 with 1 Axes>"
            ]
          },
          "metadata": {
            "tags": []
          }
        }
      ]
    }
  ]
}