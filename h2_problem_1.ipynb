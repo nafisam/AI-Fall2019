{
  "nbformat": 4,
  "nbformat_minor": 0,
  "metadata": {
    "colab": {
      "name": "h2 problem 1.ipynb",
      "provenance": []
    },
    "kernelspec": {
      "name": "python3",
      "display_name": "Python 3"
    },
    "accelerator": "GPU"
  },
  "cells": [
    {
      "cell_type": "markdown",
      "metadata": {
        "id": "rt44vyY1xW9b",
        "colab_type": "text"
      },
      "source": [
        "# Classification of MNIST digits with dense layers"
      ]
    },
    {
      "cell_type": "markdown",
      "metadata": {
        "id": "yH1EOQd6R2uQ",
        "colab_type": "text"
      },
      "source": [
        "## Loading the image data"
      ]
    },
    {
      "cell_type": "code",
      "metadata": {
        "id": "FSJyddqGexl5",
        "colab_type": "code",
        "outputId": "62e90216-666d-4d72-de91-ed6a3013301a",
        "colab": {
          "base_uri": "https://localhost:8080/",
          "height": 80
        }
      },
      "source": [
        "from keras.datasets import mnist\n",
        "import numpy as np\n",
        "\n",
        "(train_images_original, train_labels_original), (test_images_original, test_labels_original) = mnist.load_data()"
      ],
      "execution_count": 0,
      "outputs": [
        {
          "output_type": "stream",
          "text": [
            "Using TensorFlow backend.\n"
          ],
          "name": "stderr"
        },
        {
          "output_type": "display_data",
          "data": {
            "text/html": [
              "<p style=\"color: red;\">\n",
              "The default version of TensorFlow in Colab will soon switch to TensorFlow 2.x.<br>\n",
              "We recommend you <a href=\"https://www.tensorflow.org/guide/migrate\" target=\"_blank\">upgrade</a> now \n",
              "or ensure your notebook will continue to use TensorFlow 1.x via the <code>%tensorflow_version 1.x</code> magic:\n",
              "<a href=\"https://colab.research.google.com/notebooks/tensorflow_version.ipynb\" target=\"_blank\">more info</a>.</p>\n"
            ],
            "text/plain": [
              "<IPython.core.display.HTML object>"
            ]
          },
          "metadata": {
            "tags": []
          }
        }
      ]
    },
    {
      "cell_type": "markdown",
      "metadata": {
        "id": "91gu7qVhR6eX",
        "colab_type": "text"
      },
      "source": [
        "## Preparing the image data"
      ]
    },
    {
      "cell_type": "code",
      "metadata": {
        "id": "UB7_xf0hzsPx",
        "colab_type": "code",
        "colab": {}
      },
      "source": [
        "train_images = train_images_original.reshape((60000, 28 * 28))\n",
        "train_images = train_images.astype('float32') / 255\n",
        "\n",
        "test_images = test_images_original.reshape((10000, 28 * 28))\n",
        "test_images = test_images.astype('float32') / 255"
      ],
      "execution_count": 0,
      "outputs": []
    },
    {
      "cell_type": "markdown",
      "metadata": {
        "id": "HwRvZSOvSzXx",
        "colab_type": "text"
      },
      "source": [
        "## Preparing the labels\n",
        "\n",
        "We need to categorically encode the labels."
      ]
    },
    {
      "cell_type": "code",
      "metadata": {
        "id": "C1ulkKRPSgJP",
        "colab_type": "code",
        "colab": {}
      },
      "source": [
        "from keras.utils import to_categorical\n",
        "\n",
        "train_labels = to_categorical(train_labels_original)\n",
        "test_labels = to_categorical(test_labels_original)"
      ],
      "execution_count": 0,
      "outputs": []
    },
    {
      "cell_type": "markdown",
      "metadata": {
        "id": "rC8AL-W7Vunu",
        "colab_type": "text"
      },
      "source": [
        "## Calculating Width"
      ]
    },
    {
      "cell_type": "code",
      "metadata": {
        "id": "1mqqyfjeWBvO",
        "colab_type": "code",
        "colab": {}
      },
      "source": [
        "def width_calculation(image_array):\n",
        "  images_copy = np.copy(image_array)\n",
        "  for i in range(28):\n",
        "    [1 if j >= 128 else 0 for j in images_copy[i]]\n",
        "    \n",
        "  ymin = 29\n",
        "  ymax = -1\n",
        "\n",
        "  for i in range(28):\n",
        "    for j in range(28):\n",
        "      if images_copy[i][j] == 1 and j < ymin:\n",
        "        ymin = j\n",
        "      elif images_copy[i][j] == 1 and j > ymax:\n",
        "        ymax = j\n",
        "  width = (ymax-ymin + 1)/28\n",
        "\n",
        "  return width\n",
        "\n",
        "width_array_train_images = np.zeros((60000))\n",
        "width_array_test_images = np.zeros((10000))\n",
        "for i in range(60000):\n",
        "  print(\"index\", i)\n",
        "  width_array_train_images[i] = width_calculation(train_images_original[i])\n",
        "\n",
        "for i in range(10000):\n",
        "  print(\"index\", i)\n",
        "  width_array_test_images = width_calculation(test_images_original[i])\n"
      ],
      "execution_count": 0,
      "outputs": []
    },
    {
      "cell_type": "code",
      "metadata": {
        "id": "nsG6Nquol2r2",
        "colab_type": "code",
        "colab": {}
      },
      "source": [
        ""
      ],
      "execution_count": 0,
      "outputs": []
    },
    {
      "cell_type": "markdown",
      "metadata": {
        "id": "EFJyjCqwsi9H",
        "colab_type": "text"
      },
      "source": [
        "Calculate height"
      ]
    },
    {
      "cell_type": "code",
      "metadata": {
        "id": "Gq0N6hDLsjkZ",
        "colab_type": "code",
        "colab": {}
      },
      "source": [
        "def height_calculation(image_array):\n",
        "  images_copy = np.copy(image_array)\n",
        "  for i in range(28):\n",
        "    [1 if j >= 128 else 0 for j in images_copy[i]]\n",
        "    \n",
        "  xmin = 29\n",
        "  xmax = -1\n",
        "\n",
        "  for i in range(28):\n",
        "    for j in range(28):\n",
        "      if images_copy[i][j] == 1 and j < xmin:\n",
        "        xmin = j\n",
        "      elif images_copy[i][j] == 1 and j > xmax:\n",
        "        xmax = j\n",
        "  height = (xmax - xmin + 1)/28\n",
        "\n",
        "  return height\n",
        "\n",
        "height_array_train_images = np.zeros((60000))\n",
        "height_array_test_images = np.zeros((10000))\n",
        "for i in range(60000):\n",
        "  print(\"this is index\", i)\n",
        "  height_array_train_images[i] = height_calculation(train_images_original[i])\n",
        "\n",
        "for i in range(10000):\n",
        "  print(\"this is index\", i)\n",
        "  height_array_test_images = height_calculation(test_images_original[i])"
      ],
      "execution_count": 0,
      "outputs": []
    },
    {
      "cell_type": "markdown",
      "metadata": {
        "id": "gtwtZ9tOt5_R",
        "colab_type": "text"
      },
      "source": [
        "Connected Regions"
      ]
    },
    {
      "cell_type": "code",
      "metadata": {
        "id": "7XWm6fcUt7bs",
        "colab_type": "code",
        "outputId": "3fefe8aa-c01a-456f-801f-011383c0477a",
        "colab": {
          "base_uri": "https://localhost:8080/",
          "height": 1000
        }
      },
      "source": [
        "next_value = 2\n",
        "\n",
        "def floodWhiteRegion(image_array, row, col, current_value):\n",
        "  global next_value\n",
        "  if (row >= 28) or (col >= 28):\n",
        "    return\n",
        "  if (row < 0) or (col < 0):\n",
        "    return\n",
        "  if image_array[row][col] == 1:\n",
        "    return\n",
        "  if image_array[row][col] > 1:\n",
        "    return\n",
        "  \n",
        "  if image_array[row][col] == 0:\n",
        "    image_array[row][col] = current_value\n",
        "  \n",
        "  floodWhiteRegion(image_array, row - 1, col, current_value)\n",
        "  floodWhiteRegion(image_array, row + 1, col, current_value)\n",
        "  floodWhiteRegion(image_array, row, col - 1, current_value)\n",
        "  floodWhiteRegion(image_array, row, col + 1, current_value)\n",
        "\n",
        "  next_value = current_value + 1\n",
        "\n",
        "def count_connected_regions(image_array):\n",
        "  global next_value\n",
        "  image_array_copy = np.copy(image_array)\n",
        "  for i in range(28):\n",
        "    [1 if j >= 128 else 0 for j in image_array_copy[i]]\n",
        "  next_value = 2\n",
        "\n",
        "  for i in range(28):\n",
        "    for j in range(28):\n",
        "      floodWhiteRegion(image_array_copy, i, j, nextVal)\n",
        "\n",
        "  return next_value - 2\n",
        "\n",
        "connected_regions_array_train_images = np.zeros((60000))\n",
        "connected_regions_array_test_images = np.zeros((10000))\n",
        "for i in range(60000):\n",
        "  print(i)\n",
        "  connected_regions_array_train_images[i] = count_connected_regions(train_images_original[i])\n",
        "\n",
        "for i in range(10000):\n",
        "  connected_regions_array_test_images[i] = count_connected_regions(test_images_original[i])"
      ],
      "execution_count": 0,
      "outputs": [
        {
          "output_type": "stream",
          "text": [
            "0\n",
            "1\n",
            "2\n",
            "3\n",
            "4\n",
            "5\n",
            "6\n",
            "7\n",
            "8\n",
            "9\n",
            "10\n",
            "11\n",
            "12\n",
            "13\n",
            "14\n",
            "15\n",
            "16\n",
            "17\n",
            "18\n",
            "19\n",
            "20\n",
            "21\n",
            "22\n",
            "23\n",
            "24\n",
            "25\n",
            "26\n",
            "27\n",
            "28\n",
            "29\n",
            "30\n",
            "31\n",
            "32\n",
            "33\n",
            "34\n",
            "35\n",
            "36\n",
            "37\n",
            "38\n",
            "39\n",
            "40\n",
            "41\n",
            "42\n",
            "43\n",
            "44\n",
            "45\n",
            "46\n",
            "47\n",
            "48\n",
            "49\n",
            "50\n",
            "51\n",
            "52\n",
            "53\n",
            "54\n",
            "55\n",
            "56\n",
            "57\n",
            "58\n",
            "59\n",
            "60\n",
            "61\n",
            "62\n",
            "63\n",
            "64\n",
            "65\n",
            "66\n",
            "67\n",
            "68\n",
            "69\n",
            "70\n",
            "71\n",
            "72\n",
            "73\n",
            "74\n",
            "75\n",
            "76\n",
            "77\n",
            "78\n",
            "79\n",
            "80\n",
            "81\n",
            "82\n",
            "83\n",
            "84\n",
            "85\n",
            "86\n",
            "87\n",
            "88\n",
            "89\n",
            "90\n",
            "91\n",
            "92\n",
            "93\n",
            "94\n",
            "95\n",
            "96\n",
            "97\n",
            "98\n",
            "99\n",
            "100\n",
            "101\n",
            "102\n",
            "103\n",
            "104\n",
            "105\n",
            "106\n",
            "107\n",
            "108\n",
            "109\n",
            "110\n",
            "111\n",
            "112\n",
            "113\n",
            "114\n",
            "115\n",
            "116\n",
            "117\n",
            "118\n",
            "119\n",
            "120\n",
            "121\n",
            "122\n",
            "123\n",
            "124\n",
            "125\n",
            "126\n",
            "127\n",
            "128\n"
          ],
          "name": "stdout"
        },
        {
          "output_type": "error",
          "ename": "KeyboardInterrupt",
          "evalue": "ignored",
          "traceback": [
            "\u001b[0;31m---------------------------------------------------------------------------\u001b[0m",
            "\u001b[0;31mKeyboardInterrupt\u001b[0m                         Traceback (most recent call last)",
            "\u001b[0;32m<ipython-input-8-48914db933ce>\u001b[0m in \u001b[0;36m<module>\u001b[0;34m()\u001b[0m\n\u001b[1;32m     39\u001b[0m \u001b[0;32mfor\u001b[0m \u001b[0mi\u001b[0m \u001b[0;32min\u001b[0m \u001b[0mrange\u001b[0m\u001b[0;34m(\u001b[0m\u001b[0;36m60000\u001b[0m\u001b[0;34m)\u001b[0m\u001b[0;34m:\u001b[0m\u001b[0;34m\u001b[0m\u001b[0;34m\u001b[0m\u001b[0m\n\u001b[1;32m     40\u001b[0m   \u001b[0mprint\u001b[0m\u001b[0;34m(\u001b[0m\u001b[0mi\u001b[0m\u001b[0;34m)\u001b[0m\u001b[0;34m\u001b[0m\u001b[0;34m\u001b[0m\u001b[0m\n\u001b[0;32m---> 41\u001b[0;31m   \u001b[0mconnected_regions_array_train_images\u001b[0m\u001b[0;34m[\u001b[0m\u001b[0mi\u001b[0m\u001b[0;34m]\u001b[0m \u001b[0;34m=\u001b[0m \u001b[0mcount_connected_regions\u001b[0m\u001b[0;34m(\u001b[0m\u001b[0mtrain_images_original\u001b[0m\u001b[0;34m[\u001b[0m\u001b[0mi\u001b[0m\u001b[0;34m]\u001b[0m\u001b[0;34m)\u001b[0m\u001b[0;34m\u001b[0m\u001b[0;34m\u001b[0m\u001b[0m\n\u001b[0m\u001b[1;32m     42\u001b[0m \u001b[0;34m\u001b[0m\u001b[0m\n\u001b[1;32m     43\u001b[0m \u001b[0;32mfor\u001b[0m \u001b[0mi\u001b[0m \u001b[0;32min\u001b[0m \u001b[0mrange\u001b[0m\u001b[0;34m(\u001b[0m\u001b[0;36m10000\u001b[0m\u001b[0;34m)\u001b[0m\u001b[0;34m:\u001b[0m\u001b[0;34m\u001b[0m\u001b[0;34m\u001b[0m\u001b[0m\n",
            "\u001b[0;32m<ipython-input-8-48914db933ce>\u001b[0m in \u001b[0;36mcount_connected_regions\u001b[0;34m(image_array)\u001b[0m\n\u001b[1;32m     31\u001b[0m   \u001b[0;32mfor\u001b[0m \u001b[0mi\u001b[0m \u001b[0;32min\u001b[0m \u001b[0mrange\u001b[0m\u001b[0;34m(\u001b[0m\u001b[0;36m28\u001b[0m\u001b[0;34m)\u001b[0m\u001b[0;34m:\u001b[0m\u001b[0;34m\u001b[0m\u001b[0;34m\u001b[0m\u001b[0m\n\u001b[1;32m     32\u001b[0m     \u001b[0;32mfor\u001b[0m \u001b[0mj\u001b[0m \u001b[0;32min\u001b[0m \u001b[0mrange\u001b[0m\u001b[0;34m(\u001b[0m\u001b[0;36m28\u001b[0m\u001b[0;34m)\u001b[0m\u001b[0;34m:\u001b[0m\u001b[0;34m\u001b[0m\u001b[0;34m\u001b[0m\u001b[0m\n\u001b[0;32m---> 33\u001b[0;31m       \u001b[0mfloodWhiteRegion\u001b[0m\u001b[0;34m(\u001b[0m\u001b[0mimage_array_copy\u001b[0m\u001b[0;34m,\u001b[0m \u001b[0mi\u001b[0m\u001b[0;34m,\u001b[0m \u001b[0mj\u001b[0m\u001b[0;34m,\u001b[0m \u001b[0mnextVal\u001b[0m\u001b[0;34m)\u001b[0m\u001b[0;34m\u001b[0m\u001b[0;34m\u001b[0m\u001b[0m\n\u001b[0m\u001b[1;32m     34\u001b[0m \u001b[0;34m\u001b[0m\u001b[0m\n\u001b[1;32m     35\u001b[0m   \u001b[0;32mreturn\u001b[0m \u001b[0mnext_value\u001b[0m \u001b[0;34m-\u001b[0m \u001b[0;36m2\u001b[0m\u001b[0;34m\u001b[0m\u001b[0;34m\u001b[0m\u001b[0m\n",
            "\u001b[0;32m<ipython-input-8-48914db933ce>\u001b[0m in \u001b[0;36mfloodWhiteRegion\u001b[0;34m(image_array, row, col, current_value)\u001b[0m\n\u001b[1;32m      9\u001b[0m   \u001b[0;32mif\u001b[0m \u001b[0mimage_array\u001b[0m\u001b[0;34m[\u001b[0m\u001b[0mrow\u001b[0m\u001b[0;34m]\u001b[0m\u001b[0;34m[\u001b[0m\u001b[0mcol\u001b[0m\u001b[0;34m]\u001b[0m \u001b[0;34m==\u001b[0m \u001b[0;36m1\u001b[0m\u001b[0;34m:\u001b[0m\u001b[0;34m\u001b[0m\u001b[0;34m\u001b[0m\u001b[0m\n\u001b[1;32m     10\u001b[0m     \u001b[0;32mreturn\u001b[0m\u001b[0;34m\u001b[0m\u001b[0;34m\u001b[0m\u001b[0m\n\u001b[0;32m---> 11\u001b[0;31m   \u001b[0;32mif\u001b[0m \u001b[0mimage_array\u001b[0m\u001b[0;34m[\u001b[0m\u001b[0mrow\u001b[0m\u001b[0;34m]\u001b[0m\u001b[0;34m[\u001b[0m\u001b[0mcol\u001b[0m\u001b[0;34m]\u001b[0m \u001b[0;34m>\u001b[0m \u001b[0;36m1\u001b[0m\u001b[0;34m:\u001b[0m\u001b[0;34m\u001b[0m\u001b[0;34m\u001b[0m\u001b[0m\n\u001b[0m\u001b[1;32m     12\u001b[0m     \u001b[0;32mreturn\u001b[0m\u001b[0;34m\u001b[0m\u001b[0;34m\u001b[0m\u001b[0m\n\u001b[1;32m     13\u001b[0m \u001b[0;34m\u001b[0m\u001b[0m\n",
            "\u001b[0;31mKeyboardInterrupt\u001b[0m: "
          ]
        }
      ]
    },
    {
      "cell_type": "markdown",
      "metadata": {
        "id": "YgUHp6J8xKIF",
        "colab_type": "text"
      },
      "source": [
        ""
      ]
    },
    {
      "cell_type": "code",
      "metadata": {
        "id": "2RFsD5ekxKa9",
        "colab_type": "code",
        "colab": {}
      },
      "source": [
        "train_images = np.column_stack((train_images, width_array_train_images))\n",
        "train_images = np.column_stack((train_images, height_array_train_images))\n",
        "train_images = np.column_stack((train_images, connected_regions_array_train_images))\n",
        "\n",
        "test_images = np.column_stack((test_images, width_array_test_images))\n",
        "test_images = np.column_stack((test_images, height_array_test_images))\n",
        "test_images = np.column_stack((test_images, connected_regions_array_test_images))\n"
      ],
      "execution_count": 0,
      "outputs": []
    },
    {
      "cell_type": "markdown",
      "metadata": {
        "id": "36YichvkWfgL",
        "colab_type": "text"
      },
      "source": [
        "## The network architecture"
      ]
    },
    {
      "cell_type": "code",
      "metadata": {
        "id": "J1ggKa17T2s5",
        "colab_type": "code",
        "colab": {}
      },
      "source": [
        "from keras import models\n",
        "from keras import layers\n",
        "\n",
        "network = models.Sequential()\n",
        "network.add(layers.Dense(512, activation='relu', input_shape=(787,)))\n",
        "network.add(layers.Dense(10, activation='softmax'))\n",
        "network.summary()"
      ],
      "execution_count": 0,
      "outputs": []
    },
    {
      "cell_type": "markdown",
      "metadata": {
        "id": "8H6VF7ZIY6Oy",
        "colab_type": "text"
      },
      "source": [
        "## The compilation step"
      ]
    },
    {
      "cell_type": "code",
      "metadata": {
        "id": "mHp0sz7cYPsK",
        "colab_type": "code",
        "colab": {}
      },
      "source": [
        "network.compile(optimizer='rmsprop',\n",
        "                loss='categorical_crossentropy',\n",
        "                metrics=['accuracy'])"
      ],
      "execution_count": 0,
      "outputs": []
    },
    {
      "cell_type": "markdown",
      "metadata": {
        "id": "3SnwsJAtZtYx",
        "colab_type": "text"
      },
      "source": [
        "## The training step"
      ]
    },
    {
      "cell_type": "code",
      "metadata": {
        "id": "2YuVq3JIZksS",
        "colab_type": "code",
        "colab": {}
      },
      "source": [
        "epochs = 10\n",
        "history = network.fit(train_images, \n",
        "                      train_labels, \n",
        "                      epochs=epochs, \n",
        "                      batch_size=128, \n",
        "                      validation_data=(test_images, test_labels))"
      ],
      "execution_count": 0,
      "outputs": []
    },
    {
      "cell_type": "markdown",
      "metadata": {
        "id": "vTtzYNe-a-Ro",
        "colab_type": "text"
      },
      "source": [
        "## Display the training/test loss/accuracy"
      ]
    },
    {
      "cell_type": "code",
      "metadata": {
        "id": "kZ70napGZ-cK",
        "colab_type": "code",
        "colab": {}
      },
      "source": [
        "history_dict = history.history\n",
        "loss_values = history_dict['loss']\n",
        "test_loss_values = history_dict['val_loss']\n",
        "epochs_range = range(1, epochs + 1)"
      ],
      "execution_count": 0,
      "outputs": []
    },
    {
      "cell_type": "code",
      "metadata": {
        "id": "9aM-5qqCfnck",
        "colab_type": "code",
        "colab": {}
      },
      "source": [
        "plt.plot(epochs_range, loss_values, 'bo', label='Training loss')\n",
        "plt.plot(epochs_range, test_loss_values, 'ro', label='Test loss')\n",
        "plt.title('Training and test loss')\n",
        "plt.xlabel('Epochs')\n",
        "plt.ylabel('Loss')\n",
        "plt.legend()\n",
        "plt.show()"
      ],
      "execution_count": 0,
      "outputs": []
    },
    {
      "cell_type": "code",
      "metadata": {
        "id": "-IB2uFCzez-e",
        "colab_type": "code",
        "colab": {}
      },
      "source": [
        "acc_values = history_dict['acc']\n",
        "test_acc_values = history_dict['val_acc']"
      ],
      "execution_count": 0,
      "outputs": []
    },
    {
      "cell_type": "code",
      "metadata": {
        "id": "AdyXVyeLf-SV",
        "colab_type": "code",
        "colab": {}
      },
      "source": [
        "plt.plot(epochs_range, acc_values, 'bo', label='Training accuracy')\n",
        "plt.plot(epochs_range, test_acc_values, 'ro', label='Test accuracy')\n",
        "plt.title('Training and test accuracy')\n",
        "plt.xlabel('Epochs')\n",
        "plt.ylabel('Accuracy')\n",
        "plt.legend()\n",
        "plt.show()"
      ],
      "execution_count": 0,
      "outputs": []
    },
    {
      "cell_type": "markdown",
      "metadata": {
        "id": "iPbL28KUjWka",
        "colab_type": "text"
      },
      "source": [
        "## Showing some misclassified digits"
      ]
    },
    {
      "cell_type": "code",
      "metadata": {
        "id": "BkpI5di5kzEy",
        "colab_type": "code",
        "colab": {}
      },
      "source": [
        "predictions = network.predict(test_images)"
      ],
      "execution_count": 0,
      "outputs": []
    },
    {
      "cell_type": "code",
      "metadata": {
        "id": "MyoQ-72Kk7Ah",
        "colab_type": "code",
        "colab": {}
      },
      "source": [
        "predictions[0]"
      ],
      "execution_count": 0,
      "outputs": []
    },
    {
      "cell_type": "code",
      "metadata": {
        "id": "kPhKmlKNl5tX",
        "colab_type": "code",
        "colab": {}
      },
      "source": [
        "np.argmax(predictions[0])"
      ],
      "execution_count": 0,
      "outputs": []
    },
    {
      "cell_type": "code",
      "metadata": {
        "id": "OiTXq8M0mD-4",
        "colab_type": "code",
        "colab": {}
      },
      "source": [
        "test_labels_original[0]"
      ],
      "execution_count": 0,
      "outputs": []
    },
    {
      "cell_type": "code",
      "metadata": {
        "id": "bD6JO8WbmMmo",
        "colab_type": "code",
        "colab": {}
      },
      "source": [
        "predicted_labels = np.argmax(predictions, axis=1) \n",
        "predicted_labels = predicted_labels.astype('uint8')"
      ],
      "execution_count": 0,
      "outputs": []
    },
    {
      "cell_type": "code",
      "metadata": {
        "id": "5sPpiYofpJLl",
        "colab_type": "code",
        "colab": {}
      },
      "source": [
        "predicted_labels"
      ],
      "execution_count": 0,
      "outputs": []
    },
    {
      "cell_type": "code",
      "metadata": {
        "id": "82zScJn7pMuW",
        "colab_type": "code",
        "colab": {}
      },
      "source": [
        "wrong_indices = [i for i in range(10000) if predicted_labels[i] != test_labels_original[i]]"
      ],
      "execution_count": 0,
      "outputs": []
    },
    {
      "cell_type": "code",
      "metadata": {
        "id": "4rfbv49rpsSN",
        "colab_type": "code",
        "colab": {}
      },
      "source": [
        "# The quantity below is equal to the test accuracy reported by the network fit method.\n",
        "1.0 - len(wrong_indices) / 10000.0"
      ],
      "execution_count": 0,
      "outputs": []
    },
    {
      "cell_type": "code",
      "metadata": {
        "id": "6Pr6E4LNp219",
        "colab_type": "code",
        "colab": {}
      },
      "source": [
        "# This show the ith misclassified digit. \n",
        "i = 4\n",
        "wrong_index = wrong_indices[i]  "
      ],
      "execution_count": 0,
      "outputs": []
    },
    {
      "cell_type": "code",
      "metadata": {
        "id": "-SK4C_52q5oc",
        "colab_type": "code",
        "colab": {}
      },
      "source": [
        "predicted_labels[wrong_index]"
      ],
      "execution_count": 0,
      "outputs": []
    },
    {
      "cell_type": "code",
      "metadata": {
        "id": "mJiXy-LBq-Dz",
        "colab_type": "code",
        "colab": {}
      },
      "source": [
        "test_labels_original[wrong_index]"
      ],
      "execution_count": 0,
      "outputs": []
    },
    {
      "cell_type": "code",
      "metadata": {
        "id": "1VE3-4X6rFDc",
        "colab_type": "code",
        "colab": {}
      },
      "source": [
        "plt.imshow(test_images_original[wrong_index])\n",
        "plt.show()"
      ],
      "execution_count": 0,
      "outputs": []
    },
    {
      "cell_type": "code",
      "metadata": {
        "id": "a5Lo7sDbrmKM",
        "colab_type": "code",
        "colab": {}
      },
      "source": [
        ""
      ],
      "execution_count": 0,
      "outputs": []
    }
  ]
}